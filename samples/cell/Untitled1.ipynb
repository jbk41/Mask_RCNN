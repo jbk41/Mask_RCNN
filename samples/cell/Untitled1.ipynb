{
 "cells": [
  {
   "cell_type": "code",
   "execution_count": 1,
   "metadata": {
    "collapsed": false
   },
   "outputs": [],
   "source": [
    "# This is a test for converting a single image that contains all of the masks for each\n",
    "# cell to a series of images containing one mask each.\n",
    "import os\n",
    "from PIL import Image\n",
    "import numpy as np\n",
    "np.set_printoptions(threshold=np.nan)\n",
    "\n",
    "\n",
    "ROOT_DIR = os.path.abspath(\"../../\")\n",
    "im = Image.open(ROOT_DIR + '/test_cell_images/new_images/patched_ids/slice0001_patched_masks_ids.tif')\n",
    "imarray = np.array(im)\n",
    "\n"
   ]
  },
  {
   "cell_type": "code",
   "execution_count": 5,
   "metadata": {
    "collapsed": false
   },
   "outputs": [],
   "source": [
    "class Mask(object):\n",
    "    \n",
    "    ROOT_DIR = os.path.abspath(\"../../\")\n",
    "\n",
    "    def __init__(self, image_dir, image_name):\n",
    "        \"\"\"\n",
    "        Creates new object Mask. Initializes a \n",
    "        image_dir: path after ROOT_DIR to the images\n",
    "        image_name: file name\n",
    "        \"\"\"\n",
    "        image_dir_path = os.path.join(ROOT_DIR, image_dir)\n",
    "        self.image_path = os.path.join(image_dir_path, image_name)\n",
    "        im = Image.open(self.image_path)\n",
    "        self.mask_array = np.array(im).astype(bool) # mask image as numpy array\n",
    "        \n",
    "        self.list_of_masks = [] # contains one np array for each instance (each created from make_mask_array)\n",
    "        self.visited_points = np.full(self.mask_array.shape, False) # boolean array. True = visited\n",
    "                \n",
    "    def visited(self, point):\n",
    "        # returns the value of visited+points at point\n",
    "        x = point[0]\n",
    "        y = point[1]\n",
    "        return (self.visited_points[x,y])\n",
    "    \n",
    "    #def separate_masks(self):\n",
    "        #Creates each mask instance and appends to self.list_of_masks\n",
    "\n",
    "    def dfs(self, point, instance_points_array):\n",
    "        x = point[0] # row\n",
    "        y = point[1] # col\n",
    "        if (not self.inBounds(x,y) or self.visited(point)): \n",
    "            return None\n",
    "        self.visited_points[x,y] = True\n",
    "        if self.mask_array[x,y] == True:\n",
    "            instance_points_array[x,y] = True\n",
    "\n",
    "            self.dfs((x+1,y), instance_points_array)\n",
    "            self.dfs((x,y-1), instance_points_array)\n",
    "            self.dfs((x-1,y), instance_points_array)\n",
    "            self.dfs((x,y+1), instance_points_array)\n",
    "\n",
    "    def inBounds(self, row, col):\n",
    "        # check if row and col are in bounds\n",
    "        if row < 0 or row >= self.mask_array.shape[0]:\n",
    "            return False\n",
    "        if col < 0 or col >= self.mask_array.shape[1]:\n",
    "            return False\n",
    "        else:\n",
    "            return True\n",
    "\n",
    "    def make_mask_array(self):\n",
    "        \"\"\"\n",
    "        Returns a mask array containing a single instance.\n",
    "        mask_tuple_list: list of tuples of where the instance mask is located\n",
    "        \"\"\"\n",
    "        x = 0\n",
    "        y = 0\n",
    "        #for (x,y), value in np.ndenumerate(self.mask_array):\n",
    "        instance_array = np.full(self.mask_array.shape, False)   \n",
    "\n",
    "        if not self.visited((x,y)):\n",
    "            self.dfs((x,y), instance_array)\n",
    "            self.list_of_masks.append(instance_array)\n",
    "            \n",
    "            \n",
    "    \n",
    "    \n",
    "    \n",
    "    "
   ]
  },
  {
   "cell_type": "code",
   "execution_count": 6,
   "metadata": {
    "collapsed": true
   },
   "outputs": [],
   "source": [
    "mask1 = Mask('test_cell_images/new_images/patched_ids', 'slice0001_patched_masks_ids.tif')"
   ]
  },
  {
   "cell_type": "code",
   "execution_count": 9,
   "metadata": {
    "collapsed": false
   },
   "outputs": [
    {
     "name": "stderr",
     "output_type": "stream",
     "text": [
      "/Users/justinkim/anaconda3/envs/mask_rcnn/lib/python3.4/site-packages/ipykernel_launcher.py:4: DeprecationWarning: `toimage` is deprecated!\n",
      "`toimage` is deprecated in SciPy 1.0.0, and will be removed in 1.2.0.\n",
      "Use Pillow's ``Image.fromarray`` directly instead.\n",
      "  after removing the cwd from sys.path.\n"
     ]
    }
   ],
   "source": [
    "#print(mask1.mask_array)\n",
    "#print(mask1.list_of_masks[0][27,21])\n",
    "from scipy.misc import toimage\n",
    "toimage(mask1.list_of_masks[0].astype(int)).show()"
   ]
  },
  {
   "cell_type": "code",
   "execution_count": 7,
   "metadata": {
    "collapsed": false
   },
   "outputs": [],
   "source": [
    "mask1.make_mask_array()"
   ]
  },
  {
   "cell_type": "code",
   "execution_count": 8,
   "metadata": {
    "collapsed": false
   },
   "outputs": [
    {
     "ename": "IndentationError",
     "evalue": "unexpected indent (<ipython-input-8-aa0819a9d636>, line 10)",
     "output_type": "error",
     "traceback": [
      "\u001b[0;36m  File \u001b[0;32m\"<ipython-input-8-aa0819a9d636>\"\u001b[0;36m, line \u001b[0;32m10\u001b[0m\n\u001b[0;31m    Creates new object Mask. Initializes a\u001b[0m\n\u001b[0m    ^\u001b[0m\n\u001b[0;31mIndentationError\u001b[0m\u001b[0;31m:\u001b[0m unexpected indent\n"
     ]
    }
   ],
   "source": [
    "\n",
    "\n",
    "\"\"\"\n",
    "class Mask(object):\n",
    "    \n",
    "    ROOT_DIR = os.path.abspath(\"../../\")\n",
    "\n",
    "    def __init__(self, image_dir, image_name):\n",
    "        \"\"\"\n",
    "        Creates new object Mask. Initializes a \n",
    "        image_dir: path after ROOT_DIR to the images\n",
    "        image_name: file name\n",
    "        \"\"\"\n",
    "        image_dir_path = os.path.join(ROOT_DIR, image_dir)\n",
    "        self.image_path = os.path.join(image_dir_path, image_name)\n",
    "        im = Image.open(self.image_path)\n",
    "        self.mask_array = np.array(im).astype(bool) # mask image as numpy array\n",
    "        \n",
    "        self.list_of_masks = [] # contains one np array for each instance (each created from make_mask_array)\n",
    "        self.visited_points = np.full(self.mask_array.shape, False) # boolean array. True = visited\n",
    "                \n",
    "    def visited(self, point):\n",
    "        # returns the value of visited+points at point\n",
    "        x = point[0]\n",
    "        y = point[1]\n",
    "        return (self.visited_points[x,y])\n",
    "    \n",
    "    def merge_visited(self, visited_set):\n",
    "        # merges self.visited_points with the visited_points_set set from a SingleInstance object\n",
    "        for point in visited_set:\n",
    "            x = point[0]\n",
    "            y = point[1]\n",
    "            self.visited_points[x,y] = True\n",
    "    \n",
    "    def separate_masks(self):\n",
    "        #Creates each mask instance and appends to self.list_of_masks\n",
    "        \n",
    "        class SingleInstance:\n",
    "            \n",
    "            def __init__(self, mask_array, starting_point):\n",
    "                self.mask_array = mask_array #numpy array\n",
    "                self.starting_point = starting_point # tuple\n",
    "                self.visited_points_set = set() # list of points we have visited\n",
    "                self.instance_points = np.full(self.mask_array.shape, False) # True if part of the instance\n",
    "                \n",
    "            def dfs(self, point):\n",
    "                x = point[0] # row\n",
    "                y = point[1] # col\n",
    "                if (not self.inBounds(x,y) or point in self.visited_points_set): \n",
    "                    return\n",
    "                self.visited_points_set.add(point)\n",
    "                if self.mask_array[x,y] == True:\n",
    "                    self.instance_points[x,y] = True\n",
    "                    \n",
    "                    self.dfs((x+1,y))\n",
    "                    self.dfs((x,y+1))\n",
    "                    self.dfs((x-1,y))\n",
    "                    self.dfs((x,y-1))\n",
    "    \n",
    "            def inBounds(self, row, col):\n",
    "                # check if row and col are in bounds\n",
    "                if row < 0 or row >= self.mask_array.shape[0]:\n",
    "                    return False\n",
    "                if col < 0 or col >= self.mask_array.shape[1]:\n",
    "                    return False\n",
    "                else:\n",
    "                    return True\n",
    "                \n",
    "            def make_mask_array(self):\n",
    "                \"\"\"\n",
    "                Returns a mask array containing a single instance.\n",
    "                mask_tuple_list: list of tuples of where the instance mask is located\n",
    "                \"\"\"\n",
    "                mask_array = np.zeros((self.mask_array.shape[0],self.mask_array.shape[1]))\n",
    "                for point in self.instance_points:\n",
    "                    x = point[0]\n",
    "                    y = point[1]\n",
    "                    mask_array[x,y] = 1\n",
    "                return mask_array    \n",
    "                \n",
    "        for (x,y), value in np.ndenumerate(self.mask_array):\n",
    "            if not self.visited((x,y)):\n",
    "                current = SingleInstance(self.mask_array, (x,y))\n",
    "                current.dfs((x,y))\n",
    "                self.merge_visited(current.visited_points_set)\n",
    "                self.list_of_masks.append(current.make_mask_array())\n",
    "            \n",
    "            \n",
    "    \n",
    "    \n",
    "    \n",
    "\"\"\"    "
   ]
  },
  {
   "cell_type": "code",
   "execution_count": null,
   "metadata": {
    "collapsed": false
   },
   "outputs": [],
   "source": [
    "mask1 = Mask('test_cell_images/new_images/patched_ids', 'slice0001_patched_masks_ids.tif')"
   ]
  },
  {
   "cell_type": "code",
   "execution_count": null,
   "metadata": {
    "collapsed": false
   },
   "outputs": [],
   "source": [
    "mask1.mask_array"
   ]
  },
  {
   "cell_type": "code",
   "execution_count": null,
   "metadata": {
    "collapsed": false
   },
   "outputs": [],
   "source": [
    "mask1.separate_masks()"
   ]
  },
  {
   "cell_type": "code",
   "execution_count": null,
   "metadata": {
    "collapsed": false
   },
   "outputs": [],
   "source": [
    "empty = mask1.make_empty()\n",
    "empty"
   ]
  },
  {
   "cell_type": "code",
   "execution_count": null,
   "metadata": {
    "collapsed": false
   },
   "outputs": [],
   "source": [
    "x = []\n",
    "x.append((3,3))\n"
   ]
  },
  {
   "cell_type": "code",
   "execution_count": null,
   "metadata": {
    "collapsed": false
   },
   "outputs": [],
   "source": [
    "x"
   ]
  },
  {
   "cell_type": "code",
   "execution_count": null,
   "metadata": {
    "collapsed": false
   },
   "outputs": [],
   "source": [
    "x = 0\n",
    "if x:\n",
    "    print(\"false\")"
   ]
  },
  {
   "cell_type": "raw",
   "metadata": {
    "collapsed": false
   },
   "source": []
  },
  {
   "cell_type": "code",
   "execution_count": null,
   "metadata": {
    "collapsed": true
   },
   "outputs": [],
   "source": []
  },
  {
   "cell_type": "code",
   "execution_count": null,
   "metadata": {
    "collapsed": true
   },
   "outputs": [],
   "source": []
  }
 ],
 "metadata": {
  "kernelspec": {
   "display_name": "Python 3",
   "language": "python",
   "name": "python3"
  },
  "language_info": {
   "codemirror_mode": {
    "name": "ipython",
    "version": 3
   },
   "file_extension": ".py",
   "mimetype": "text/x-python",
   "name": "python",
   "nbconvert_exporter": "python",
   "pygments_lexer": "ipython3",
   "version": "3.4.5"
  }
 },
 "nbformat": 4,
 "nbformat_minor": 2
}
